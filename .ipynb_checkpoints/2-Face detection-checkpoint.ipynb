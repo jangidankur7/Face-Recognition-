{
 "cells": [
  {
   "cell_type": "markdown",
   "metadata": {},
   "source": [
    "Gentle Adaboost frontal face detector\n",
    "\n",
    "By   -  Rainer Lienhart \n",
    "\n",
    "face detection - haarcassade classifier\n",
    "    \n",
    "    "
   ]
  },
  {
   "cell_type": "code",
   "execution_count": null,
   "metadata": {},
   "outputs": [],
   "source": [
    "# reading video stream\n",
    "import cv2\n",
    "\n",
    "cap = cv2.VideoCapture(0)  ## (0) is id ( 0-defalut webcam)\n",
    "face_cascade = cv2.CascadeClassifier(\"/home/ankur/Documents/haarcascade_frontalface_default.xml\")\n",
    "\n",
    "while True :\n",
    "    ret,frame = cap.read()\n",
    "    gray_frame = cv2.cvtColor(frame,cv2.COLOR_BGR2GRAY)\n",
    "    \n",
    "    if ret==False :\n",
    "        continue\n",
    "        \n",
    "    faces = face_cascade.detectMultiScale(gray_frame,1.3,5) ##(scalingFactor,No of Neighbours)\n",
    "    cv2.imshow('Video Frame',frame)\n",
    "    cv2.imshow('Gray frame',gray_frame)\n",
    "    \n",
    "    \n",
    "    for (x,y,w,h) in faces :\n",
    "        cv2.rectangle(frame,(x,y),(x+w,y+h),(255,0,0),2)\n",
    "        \n",
    "    cv2.imshow('Video Frame',frame)\n",
    "    #cv2.imshow('Gray frame',gray_frame)    \n",
    "    ## wait for user input -q , then you will stop loop\n",
    "    \n",
    "    key_pressed = cv2.waitKey(1) & 0xFF   ## converting 32 byte into  8 bytes and then comparing with ascii value\n",
    "    \n",
    "    if key_pressed == ord('q'):\n",
    "        break\n",
    "\n",
    "cap.release()\n",
    "cv2.destroyAllWindows()\n",
    "\n",
    "\n",
    "\n",
    "## scaleFactor = parameter specifying how much image size is reduced at each image scale\n",
    "## used to create scale pyramid\n",
    "\n",
    "## neighbours - specifying how many neighbours each candidate rectange should have to retain it\n",
    "## more value - less detection but high quality (keep 3-6)"
   ]
  }
 ],
 "metadata": {
  "kernelspec": {
   "display_name": "Python 3",
   "language": "python",
   "name": "python3"
  },
  "language_info": {
   "codemirror_mode": {
    "name": "ipython",
    "version": 3
   },
   "file_extension": ".py",
   "mimetype": "text/x-python",
   "name": "python",
   "nbconvert_exporter": "python",
   "pygments_lexer": "ipython3",
   "version": "3.8.3"
  }
 },
 "nbformat": 4,
 "nbformat_minor": 4
}
