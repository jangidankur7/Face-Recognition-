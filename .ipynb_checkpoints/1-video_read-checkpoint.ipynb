{
 "cells": [
  {
   "cell_type": "code",
   "execution_count": 1,
   "metadata": {},
   "outputs": [],
   "source": [
    "## reading a video stream from camera frame by frame"
   ]
  },
  {
   "cell_type": "code",
   "execution_count": null,
   "metadata": {},
   "outputs": [],
   "source": [
    "import cv2\n",
    "\n",
    "cap = cv2.VideoCapture(0)  ## (0) is id ( 0-defalut webcam)\n",
    "\n",
    "while True :\n",
    "    ret,frame = cap.read()\n",
    "    \n",
    "    if ret==False :\n",
    "        continue\n",
    "        \n",
    "    cv2.imshowh('Video Frame',frame)\n",
    "    \n",
    "    ## wait for user input -q , then you will stop loop\n",
    "    \n",
    "    key_pressed = cv2.waitKey(1) & 0xFF   ## converting 32 byte into  8 bytes and then comparing with ascii value\n",
    "    \n",
    "    if key_pressed == ord('q'):\n",
    "        break\n",
    "\n",
    "cap.release()\n",
    "cv2.destroyAllWindows()"
   ]
  },
  {
   "cell_type": "code",
   "execution_count": null,
   "metadata": {},
   "outputs": [],
   "source": []
  }
 ],
 "metadata": {
  "kernelspec": {
   "display_name": "Python 3",
   "language": "python",
   "name": "python3"
  },
  "language_info": {
   "codemirror_mode": {
    "name": "ipython",
    "version": 3
   },
   "file_extension": ".py",
   "mimetype": "text/x-python",
   "name": "python",
   "nbconvert_exporter": "python",
   "pygments_lexer": "ipython3",
   "version": "3.8.3"
  }
 },
 "nbformat": 4,
 "nbformat_minor": 4
}
